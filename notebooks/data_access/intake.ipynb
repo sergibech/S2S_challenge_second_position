{
 "cells": [
  {
   "cell_type": "markdown",
   "metadata": {},
   "source": [
    "# Data Access from EWC via `intake`\n",
    "\n",
    "Data easily available via `climetlab`: https://github.com/ecmwf-lab/climetlab-s2s-ai-challenge\n",
    "Data holdings listed: https://storage.ecmwf.europeanweather.cloud/s2s-ai-challenge/data/test-input/0.3.0/netcdf/index.html\n",
    "\n",
    "Therefore, S3 data also accessible with `intake-xarray` and cachable with `fsspec`."
   ]
  },
  {
   "cell_type": "code",
   "execution_count": 1,
   "metadata": {},
   "outputs": [
    {
     "name": "stderr",
     "output_type": "stream",
     "text": [
      "/opt/conda/lib/python3.8/site-packages/xarray/backends/cfgrib_.py:27: UserWarning: Failed to load cfgrib - most likely there is a problem accessing the ecCodes library. Try `import cfgrib` to get the full error message\n",
      "  warnings.warn(\n"
     ]
    },
    {
     "data": {
      "text/plain": [
       "<xarray.core.options.set_options at 0x7fa0100dcdc0>"
      ]
     },
     "execution_count": 1,
     "metadata": {},
     "output_type": "execute_result"
    }
   ],
   "source": [
    "import intake\n",
    "import fsspec\n",
    "import xarray as xr\n",
    "import os, glob\n",
    "import pandas as pd\n",
    "xr.set_options(display_style='text')"
   ]
  },
  {
   "cell_type": "code",
   "execution_count": 2,
   "metadata": {},
   "outputs": [],
   "source": [
    "# prevent aihttp timeout errors\n",
    "\n",
    "from aiohttp import ClientSession, ClientTimeout\n",
    "timeout = ClientTimeout(total=600)\n",
    "fsspec.config.conf['https'] = dict(client_kwargs={'timeout': timeout})"
   ]
  },
  {
   "cell_type": "markdown",
   "metadata": {},
   "source": [
    "# intake\n",
    "\n",
    "https://github.com/intake/intake-xarray can read and cache `grib` and `netcdf` from catalogs.\n",
    "\n",
    "Caching via `fsspec`: https://filesystem-spec.readthedocs.io/en/latest/features.html#caching-files-locally"
   ]
  },
  {
   "cell_type": "code",
   "execution_count": 3,
   "metadata": {},
   "outputs": [],
   "source": [
    "import intake_xarray\n",
    "cache_path = '/work/s2s-ai-challenge-template/data/cache'\n",
    "fsspec.config.conf['simplecache'] = {'cache_storage': cache_path, 'same_names':True}"
   ]
  },
  {
   "cell_type": "code",
   "execution_count": 4,
   "metadata": {},
   "outputs": [
    {
     "name": "stdout",
     "output_type": "stream",
     "text": [
      "Writing EWC_catalog.yml\n"
     ]
    }
   ],
   "source": [
    "%%writefile EWC_catalog.yml\n",
    "plugins:\n",
    "  source:\n",
    "    - module: intake_xarray\n",
    "\n",
    "sources:\n",
    "  training-input:\n",
    "    description: climetlab name in AI/ML community naming for hindcasts as input to the ML-model in training period\n",
    "    driver: netcdf\n",
    "    parameters:\n",
    "      model:\n",
    "        description: name of the S2S model\n",
    "        type: str\n",
    "        default: ecmwf\n",
    "        allowed: [ecmwf, eccc, ncep]\n",
    "      param:\n",
    "        description: variable name\n",
    "        type: str\n",
    "        default: tp\n",
    "        allowed: [t2m, ci, gh, lsm, msl, q, rsn, sm100, sm20, sp, sst, st100, st20, t, tcc, tcw, ttr, tp, v, u]\n",
    "      date:\n",
    "        description: initialization weekly thursdays\n",
    "        type: datetime\n",
    "        default: 2020.01.02\n",
    "        min: 2020.01.02\n",
    "        max: 2020.12.31\n",
    "      version:\n",
    "        description: versioning of the data\n",
    "        type: str\n",
    "        default: 0.3.0\n",
    "      format:\n",
    "        description: data type\n",
    "        type: str\n",
    "        default: netcdf\n",
    "        allowed: [netcdf, grib]\n",
    "      ending:\n",
    "        description: data format compatible with format; netcdf -> nc, grib -> grib\n",
    "        type: str\n",
    "        default: nc\n",
    "        allowed: [nc, grib]\n",
    "    xarray_kwargs:\n",
    "        engine: h5netcdf\n",
    "    args: # add simplecache:: for caching: https://filesystem-spec.readthedocs.io/en/latest/features.html#caching-files-locally\n",
    "      urlpath: https://storage.ecmwf.europeanweather.cloud/s2s-ai-challenge/data/training-input/{{version}}/{{format}}/{{model}}-hindcast-{{param}}-{{date.strftime(\"%Y%m%d\")}}.{{ending}}\n",
    "\n",
    "  test-input:\n",
    "    description: climetlab name in AI/ML community naming for 2020 forecasts as input to ML model in test period 2020\n",
    "    driver: netcdf\n",
    "    parameters:\n",
    "      model:\n",
    "        description: name of the S2S model\n",
    "        type: str\n",
    "        default: ecmwf\n",
    "        allowed: [ecmwf, eccc, ncep]\n",
    "      param:\n",
    "        description: variable name\n",
    "        type: str\n",
    "        default: tp\n",
    "        allowed: [t2m, ci, gh, lsm, msl, q, rsn, sm100, sm20, sp, sst, st100, st20, t, tcc, tcw, ttr, tp, v, u]\n",
    "      date:\n",
    "        description: initialization weekly thursdays\n",
    "        type: datetime\n",
    "        default: 2020.01.02\n",
    "        min: 2020.01.02\n",
    "        max: 2020.12.31\n",
    "      version:\n",
    "        description: versioning of the data\n",
    "        type: str\n",
    "        default: 0.3.0\n",
    "      format:\n",
    "        description: data type\n",
    "        type: str\n",
    "        default: netcdf\n",
    "        allowed: [netcdf, grib]\n",
    "      ending:\n",
    "        description: data format compatible with format; netcdf -> nc, grib -> grib\n",
    "        type: str\n",
    "        default: nc\n",
    "        allowed: [nc, grib]\n",
    "    xarray_kwargs:\n",
    "        engine: h5netcdf\n",
    "    args: # add simplecache:: for caching: https://filesystem-spec.readthedocs.io/en/latest/features.html#caching-files-locally\n",
    "      urlpath: https://storage.ecmwf.europeanweather.cloud/s2s-ai-challenge/data/test-input/{{version}}/{{format}}/{{model}}-forecast-{{param}}-{{date.strftime(\"%Y%m%d\")}}.{{ending}}\n",
    "\n",
    "  training-output-reference:\n",
    "    description: climetlab name in AI/ML community naming for 2020 forecasts as output reference to compare to ML model output to in training period\n",
    "    driver: netcdf\n",
    "    parameters:\n",
    "      param:\n",
    "        description: variable name\n",
    "        type: str\n",
    "        default: tp\n",
    "        allowed: [t2m, ci, gh, lsm, msl, q, rsn, sm100, sm20, sp, sst, st100, st20, t, tcc, tcw, ttr, tp, v, u]\n",
    "      date:\n",
    "        description: initialization weekly thursdays\n",
    "        type: datetime\n",
    "        default: 2020.01.02\n",
    "        min: 2020.01.02\n",
    "        max: 2020.12.31\n",
    "    xarray_kwargs:\n",
    "        engine: h5netcdf\n",
    "    args: # add simplecache:: for caching: https://filesystem-spec.readthedocs.io/en/latest/features.html#caching-files-locally\n",
    "      urlpath: https://storage.ecmwf.europeanweather.cloud/s2s-ai-challenge/data/test-output-reference/{{param}}-{{date.strftime(\"%Y%m%d\")}}.nc\n",
    "            \n",
    "  test-output-reference:\n",
    "    description: climetlab name in AI/ML community naming for 2020 forecasts as output reference to compare to ML model output to in test period 2020\n",
    "    driver: netcdf\n",
    "    parameters:\n",
    "      param:\n",
    "        description: variable name\n",
    "        type: str\n",
    "        default: tp\n",
    "        allowed: [t2m, ci, gh, lsm, msl, q, rsn, sm100, sm20, sp, sst, st100, st20, t, tcc, tcw, ttr, tp, v, u]\n",
    "      date:\n",
    "        description: initialization weekly thursdays\n",
    "        type: datetime\n",
    "        default: 2020.01.02\n",
    "        min: 2020.01.02\n",
    "        max: 2020.12.31\n",
    "    xarray_kwargs:\n",
    "        engine: h5netcdf\n",
    "    args: # add simplecache:: for caching: https://filesystem-spec.readthedocs.io/en/latest/features.html#caching-files-locally\n",
    "      urlpath: https://storage.ecmwf.europeanweather.cloud/s2s-ai-challenge/data/test-output-reference/{{param}}-{{date.strftime(\"%Y%m%d\")}}.nc"
   ]
  },
  {
   "cell_type": "code",
   "execution_count": 5,
   "metadata": {},
   "outputs": [],
   "source": [
    "cat = intake.open_catalog('EWC_catalog.yml')"
   ]
  },
  {
   "cell_type": "code",
   "execution_count": 6,
   "metadata": {},
   "outputs": [
    {
     "data": {
      "text/plain": [
       "DatetimeIndex(['2020-01-02', '2020-01-09', '2020-01-16', '2020-01-23',\n",
       "               '2020-01-30', '2020-02-06', '2020-02-13', '2020-02-20',\n",
       "               '2020-02-27', '2020-03-05', '2020-03-12', '2020-03-19',\n",
       "               '2020-03-26', '2020-04-02', '2020-04-09', '2020-04-16',\n",
       "               '2020-04-23', '2020-04-30', '2020-05-07', '2020-05-14',\n",
       "               '2020-05-21', '2020-05-28', '2020-06-04', '2020-06-11',\n",
       "               '2020-06-18', '2020-06-25', '2020-07-02', '2020-07-09',\n",
       "               '2020-07-16', '2020-07-23', '2020-07-30', '2020-08-06',\n",
       "               '2020-08-13', '2020-08-20', '2020-08-27', '2020-09-03',\n",
       "               '2020-09-10', '2020-09-17', '2020-09-24', '2020-10-01',\n",
       "               '2020-10-08', '2020-10-15', '2020-10-22', '2020-10-29',\n",
       "               '2020-11-05', '2020-11-12', '2020-11-19', '2020-11-26',\n",
       "               '2020-12-03', '2020-12-10', '2020-12-17', '2020-12-24',\n",
       "               '2020-12-31'],\n",
       "              dtype='datetime64[ns]', freq='7D')"
      ]
     },
     "execution_count": 6,
     "metadata": {},
     "output_type": "execute_result"
    }
   ],
   "source": [
    "# dates for 2020 forecasts and their on-the-fly reforecasts\n",
    "dates=pd.date_range(start='2020-01-02',freq='7D',end='2020-12-31')\n",
    "dates"
   ]
  },
  {
   "cell_type": "markdown",
   "metadata": {},
   "source": [
    "# `hindcast-input`\n",
    "\n",
    "on-the-fly hindcasts corresponding to the 2020 forecasts"
   ]
  },
  {
   "cell_type": "code",
   "execution_count": 7,
   "metadata": {},
   "outputs": [
    {
     "name": "stderr",
     "output_type": "stream",
     "text": [
      "/opt/conda/lib/python3.8/site-packages/xarray/backends/plugins.py:61: RuntimeWarning: Engine 'cfgrib' loading failed:\n",
      "/opt/conda/lib/python3.8/site-packages/gribapi/_bindings.cpython-38-x86_64-linux-gnu.so: undefined symbol: codes_bufr_key_is_header\n",
      "  warnings.warn(f\"Engine {name!r} loading failed:\\n{ex}\", RuntimeWarning)\n"
     ]
    },
    {
     "data": {
      "text/html": [
       "<pre>&lt;xarray.Dataset&gt;\n",
       "Dimensions:        (forecast_time: 20, latitude: 121, lead_time: 32, longitude: 240, realization: 4)\n",
       "Coordinates:\n",
       "  * realization    (realization) int64 0 1 2 3\n",
       "  * forecast_time  (forecast_time) datetime64[ns] 1998-03-12 ... 2017-03-12\n",
       "  * lead_time      (lead_time) timedelta64[ns] 1 days 2 days ... 31 days 32 days\n",
       "  * latitude       (latitude) float64 90.0 88.5 87.0 85.5 ... -87.0 -88.5 -90.0\n",
       "  * longitude      (longitude) float64 0.0 1.5 3.0 4.5 ... 355.5 357.0 358.5\n",
       "    valid_time     (forecast_time, lead_time) datetime64[ns] ...\n",
       "Data variables:\n",
       "    tp             (realization, forecast_time, lead_time, latitude, longitude) float32 ...\n",
       "Attributes:\n",
       "    GRIB_edition:            [2]\n",
       "    GRIB_centre:             cwao\n",
       "    GRIB_centreDescription:  Canadian Meteorological Service - Montreal \n",
       "    GRIB_subCentre:          [0]\n",
       "    Conventions:             CF-1.7\n",
       "    institution:             Canadian Meteorological Service - Montreal \n",
       "    history:                 2021-05-11T10:03 GRIB to CDM+CF via cfgrib-0.9.9...</pre>"
      ],
      "text/plain": [
       "<xarray.Dataset>\n",
       "Dimensions:        (forecast_time: 20, latitude: 121, lead_time: 32, longitude: 240, realization: 4)\n",
       "Coordinates:\n",
       "  * realization    (realization) int64 0 1 2 3\n",
       "  * forecast_time  (forecast_time) datetime64[ns] 1998-03-12 ... 2017-03-12\n",
       "  * lead_time      (lead_time) timedelta64[ns] 1 days 2 days ... 31 days 32 days\n",
       "  * latitude       (latitude) float64 90.0 88.5 87.0 85.5 ... -87.0 -88.5 -90.0\n",
       "  * longitude      (longitude) float64 0.0 1.5 3.0 4.5 ... 355.5 357.0 358.5\n",
       "    valid_time     (forecast_time, lead_time) datetime64[ns] ...\n",
       "Data variables:\n",
       "    tp             (realization, forecast_time, lead_time, latitude, longitude) float32 ...\n",
       "Attributes:\n",
       "    GRIB_edition:            [2]\n",
       "    GRIB_centre:             cwao\n",
       "    GRIB_centreDescription:  Canadian Meteorological Service - Montreal \n",
       "    GRIB_subCentre:          [0]\n",
       "    Conventions:             CF-1.7\n",
       "    institution:             Canadian Meteorological Service - Montreal \n",
       "    history:                 2021-05-11T10:03 GRIB to CDM+CF via cfgrib-0.9.9..."
      ]
     },
     "execution_count": 7,
     "metadata": {},
     "output_type": "execute_result"
    }
   ],
   "source": [
    "cat['training-input'](date=dates[10], param='tp', model='eccc').to_dask()"
   ]
  },
  {
   "cell_type": "markdown",
   "metadata": {},
   "source": [
    "# `forecast-input`\n",
    "\n",
    "2020"
   ]
  },
  {
   "cell_type": "code",
   "execution_count": 8,
   "metadata": {},
   "outputs": [
    {
     "data": {
      "text/html": [
       "<pre>&lt;xarray.Dataset&gt;\n",
       "Dimensions:        (forecast_time: 1, latitude: 121, lead_time: 46, longitude: 240, realization: 51)\n",
       "Coordinates:\n",
       "  * realization    (realization) int64 0 1 2 3 4 5 6 7 ... 44 45 46 47 48 49 50\n",
       "  * forecast_time  (forecast_time) datetime64[ns] 2020-03-12\n",
       "  * lead_time      (lead_time) timedelta64[ns] 1 days 2 days ... 45 days 46 days\n",
       "  * latitude       (latitude) float64 90.0 88.5 87.0 85.5 ... -87.0 -88.5 -90.0\n",
       "  * longitude      (longitude) float64 0.0 1.5 3.0 4.5 ... 355.5 357.0 358.5\n",
       "    valid_time     (forecast_time, lead_time) datetime64[ns] ...\n",
       "Data variables:\n",
       "    t2m            (realization, forecast_time, lead_time, latitude, longitude) float32 ...\n",
       "Attributes:\n",
       "    GRIB_edition:            [2]\n",
       "    GRIB_centre:             ecmf\n",
       "    GRIB_centreDescription:  European Centre for Medium-Range Weather Forecasts\n",
       "    GRIB_subCentre:          [0]\n",
       "    Conventions:             CF-1.7\n",
       "    institution:             European Centre for Medium-Range Weather Forecasts\n",
       "    history:                 2021-05-10T16:14:36 GRIB to CDM+CF via cfgrib-0....</pre>"
      ],
      "text/plain": [
       "<xarray.Dataset>\n",
       "Dimensions:        (forecast_time: 1, latitude: 121, lead_time: 46, longitude: 240, realization: 51)\n",
       "Coordinates:\n",
       "  * realization    (realization) int64 0 1 2 3 4 5 6 7 ... 44 45 46 47 48 49 50\n",
       "  * forecast_time  (forecast_time) datetime64[ns] 2020-03-12\n",
       "  * lead_time      (lead_time) timedelta64[ns] 1 days 2 days ... 45 days 46 days\n",
       "  * latitude       (latitude) float64 90.0 88.5 87.0 85.5 ... -87.0 -88.5 -90.0\n",
       "  * longitude      (longitude) float64 0.0 1.5 3.0 4.5 ... 355.5 357.0 358.5\n",
       "    valid_time     (forecast_time, lead_time) datetime64[ns] ...\n",
       "Data variables:\n",
       "    t2m            (realization, forecast_time, lead_time, latitude, longitude) float32 ...\n",
       "Attributes:\n",
       "    GRIB_edition:            [2]\n",
       "    GRIB_centre:             ecmf\n",
       "    GRIB_centreDescription:  European Centre for Medium-Range Weather Forecasts\n",
       "    GRIB_subCentre:          [0]\n",
       "    Conventions:             CF-1.7\n",
       "    institution:             European Centre for Medium-Range Weather Forecasts\n",
       "    history:                 2021-05-10T16:14:36 GRIB to CDM+CF via cfgrib-0...."
      ]
     },
     "execution_count": 8,
     "metadata": {},
     "output_type": "execute_result"
    }
   ],
   "source": [
    "cat['test-input'](date=dates[10], param='t2m', model='ecmwf').to_dask()"
   ]
  },
  {
   "cell_type": "markdown",
   "metadata": {},
   "source": [
    "# `hindcast-like-observations`\n",
    "\n",
    "observations matching hindcasts"
   ]
  },
  {
   "cell_type": "code",
   "execution_count": 9,
   "metadata": {},
   "outputs": [
    {
     "data": {
      "text/html": [
       "<pre>&lt;xarray.Dataset&gt;\n",
       "Dimensions:        (forecast_time: 1, latitude: 121, lead_time: 47, longitude: 240)\n",
       "Coordinates:\n",
       "    valid_time     (lead_time, forecast_time) datetime64[ns] ...\n",
       "  * latitude       (latitude) float64 90.0 88.5 87.0 85.5 ... -87.0 -88.5 -90.0\n",
       "  * longitude      (longitude) float64 0.0 1.5 3.0 4.5 ... 355.5 357.0 358.5\n",
       "  * forecast_time  (forecast_time) datetime64[ns] 2020-03-12\n",
       "  * lead_time      (lead_time) timedelta64[ns] 0 days 1 days ... 45 days 46 days\n",
       "Data variables:\n",
       "    t2m            (lead_time, forecast_time, latitude, longitude) float32 ...\n",
       "Attributes:\n",
       "    source_dataset_name:  temperature daily from NOAA NCEP CPC: Climate Predi...\n",
       "    source_hosting:       IRIDL\n",
       "    source_url:           http://iridl.ldeo.columbia.edu/SOURCES/.NOAA/.NCEP/...\n",
       "    created_by_software:  climetlab-s2s-ai-challenge\n",
       "    created_by_script:    tools/observations/makefile</pre>"
      ],
      "text/plain": [
       "<xarray.Dataset>\n",
       "Dimensions:        (forecast_time: 1, latitude: 121, lead_time: 47, longitude: 240)\n",
       "Coordinates:\n",
       "    valid_time     (lead_time, forecast_time) datetime64[ns] ...\n",
       "  * latitude       (latitude) float64 90.0 88.5 87.0 85.5 ... -87.0 -88.5 -90.0\n",
       "  * longitude      (longitude) float64 0.0 1.5 3.0 4.5 ... 355.5 357.0 358.5\n",
       "  * forecast_time  (forecast_time) datetime64[ns] 2020-03-12\n",
       "  * lead_time      (lead_time) timedelta64[ns] 0 days 1 days ... 45 days 46 days\n",
       "Data variables:\n",
       "    t2m            (lead_time, forecast_time, latitude, longitude) float32 ...\n",
       "Attributes:\n",
       "    source_dataset_name:  temperature daily from NOAA NCEP CPC: Climate Predi...\n",
       "    source_hosting:       IRIDL\n",
       "    source_url:           http://iridl.ldeo.columbia.edu/SOURCES/.NOAA/.NCEP/...\n",
       "    created_by_software:  climetlab-s2s-ai-challenge\n",
       "    created_by_script:    tools/observations/makefile"
      ]
     },
     "execution_count": 9,
     "metadata": {},
     "output_type": "execute_result"
    }
   ],
   "source": [
    "cat['training-output-reference'](date=dates[10], param='t2m').to_dask()"
   ]
  },
  {
   "cell_type": "markdown",
   "metadata": {},
   "source": [
    "# `forecast-like-observations`\n",
    "\n",
    "observations matching 2020 forecasts"
   ]
  },
  {
   "cell_type": "code",
   "execution_count": 10,
   "metadata": {},
   "outputs": [
    {
     "data": {
      "text/html": [
       "<pre>&lt;xarray.Dataset&gt;\n",
       "Dimensions:        (forecast_time: 1, latitude: 121, lead_time: 47, longitude: 240)\n",
       "Coordinates:\n",
       "    valid_time     (lead_time, forecast_time) datetime64[ns] ...\n",
       "  * latitude       (latitude) float64 90.0 88.5 87.0 85.5 ... -87.0 -88.5 -90.0\n",
       "  * longitude      (longitude) float64 0.0 1.5 3.0 4.5 ... 355.5 357.0 358.5\n",
       "  * forecast_time  (forecast_time) datetime64[ns] 2020-03-12\n",
       "  * lead_time      (lead_time) timedelta64[ns] 0 days 1 days ... 45 days 46 days\n",
       "Data variables:\n",
       "    t2m            (lead_time, forecast_time, latitude, longitude) float32 ...\n",
       "Attributes:\n",
       "    source_dataset_name:  temperature daily from NOAA NCEP CPC: Climate Predi...\n",
       "    source_hosting:       IRIDL\n",
       "    source_url:           http://iridl.ldeo.columbia.edu/SOURCES/.NOAA/.NCEP/...\n",
       "    created_by_software:  climetlab-s2s-ai-challenge\n",
       "    created_by_script:    tools/observations/makefile</pre>"
      ],
      "text/plain": [
       "<xarray.Dataset>\n",
       "Dimensions:        (forecast_time: 1, latitude: 121, lead_time: 47, longitude: 240)\n",
       "Coordinates:\n",
       "    valid_time     (lead_time, forecast_time) datetime64[ns] ...\n",
       "  * latitude       (latitude) float64 90.0 88.5 87.0 85.5 ... -87.0 -88.5 -90.0\n",
       "  * longitude      (longitude) float64 0.0 1.5 3.0 4.5 ... 355.5 357.0 358.5\n",
       "  * forecast_time  (forecast_time) datetime64[ns] 2020-03-12\n",
       "  * lead_time      (lead_time) timedelta64[ns] 0 days 1 days ... 45 days 46 days\n",
       "Data variables:\n",
       "    t2m            (lead_time, forecast_time, latitude, longitude) float32 ...\n",
       "Attributes:\n",
       "    source_dataset_name:  temperature daily from NOAA NCEP CPC: Climate Predi...\n",
       "    source_hosting:       IRIDL\n",
       "    source_url:           http://iridl.ldeo.columbia.edu/SOURCES/.NOAA/.NCEP/...\n",
       "    created_by_software:  climetlab-s2s-ai-challenge\n",
       "    created_by_script:    tools/observations/makefile"
      ]
     },
     "execution_count": 10,
     "metadata": {},
     "output_type": "execute_result"
    }
   ],
   "source": [
    "cat['test-output-reference'](date=dates[10], param='t2m').to_dask()"
   ]
  },
  {
   "cell_type": "code",
   "execution_count": null,
   "metadata": {},
   "outputs": [],
   "source": []
  }
 ],
 "metadata": {
  "kernelspec": {
   "display_name": "Python 3",
   "language": "python",
   "name": "python3"
  },
  "language_info": {
   "codemirror_mode": {
    "name": "ipython",
    "version": 3
   },
   "file_extension": ".py",
   "mimetype": "text/x-python",
   "name": "python",
   "nbconvert_exporter": "python",
   "pygments_lexer": "ipython3",
   "version": "3.8.6"
  }
 },
 "nbformat": 4,
 "nbformat_minor": 4
}
